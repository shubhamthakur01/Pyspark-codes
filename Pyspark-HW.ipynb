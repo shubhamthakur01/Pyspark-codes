{
 "cells": [
  {
   "cell_type": "code",
   "execution_count": 4,
   "id": "4d24e327",
   "metadata": {
    "ExecuteTime": {
     "end_time": "2022-02-18T05:21:42.126239Z",
     "start_time": "2022-02-18T05:21:41.918312Z"
    }
   },
   "outputs": [],
   "source": [
    "from pyspark.sql import SparkSession\n",
    "from pyspark.sql.functions import *\n",
    "from pyspark.sql.types import *\n",
    "from pyspark.sql.window import Window\n",
    "\n",
    "from datetime import datetime\n",
    "\n",
    "from user_definition import *\n",
    "sc = SparkContext.getOrCreate()\n",
    "ss = SparkSession.builder.getOrCreate()"
   ]
  },
  {
   "cell_type": "code",
   "execution_count": 64,
   "id": "5cda2e00",
   "metadata": {
    "ExecuteTime": {
     "end_time": "2022-02-18T08:09:58.646671Z",
     "start_time": "2022-02-18T08:09:58.643163Z"
    }
   },
   "outputs": [],
   "source": [
    "\n",
    "n = 10\n",
    "start_string = 'S'\n",
    "start_date = \"2020-01-01\"\n",
    "end_date = \"2020-01-07\"\n",
    "site_id_val = 60270022"
   ]
  },
  {
   "cell_type": "markdown",
   "id": "4d002489",
   "metadata": {},
   "source": [
    "# Q1"
   ]
  },
  {
   "cell_type": "markdown",
   "id": "b0b48313",
   "metadata": {},
   "source": [
    "**Reading the Data**"
   ]
  },
  {
   "cell_type": "code",
   "execution_count": 30,
   "id": "81590d76",
   "metadata": {
    "ExecuteTime": {
     "end_time": "2022-02-18T07:39:33.775283Z",
     "start_time": "2022-02-18T07:39:33.770886Z"
    }
   },
   "outputs": [],
   "source": [
    "def convert_date(x):\n",
    "    arr = x.split('-')\n",
    "    return datetime(int(arr[0]), int(arr[1]), int(arr[2]) )"
   ]
  },
  {
   "cell_type": "code",
   "execution_count": 41,
   "id": "11006590",
   "metadata": {
    "ExecuteTime": {
     "end_time": "2022-02-18T07:52:10.335758Z",
     "start_time": "2022-02-18T07:52:10.140631Z"
    }
   },
   "outputs": [
    {
     "data": {
      "text/plain": [
       "[datetime.datetime(2020, 1, 1, 0, 0), 60070008, 27.0, 25.0]"
      ]
     },
     "execution_count": 41,
     "metadata": {},
     "output_type": "execute_result"
    }
   ],
   "source": [
    "airquality = sc.textFile(air_quality_file).map(lambda x : x.split(','))\n",
    "airquality_ = airquality.map(lambda x: [convert_date(x[0]), int(x[1]), float(x[2]),float(x[3]) ])\n",
    "airquality_.first()"
   ]
  },
  {
   "cell_type": "code",
   "execution_count": 42,
   "id": "cad0fab3",
   "metadata": {
    "ExecuteTime": {
     "end_time": "2022-02-18T07:52:11.697908Z",
     "start_time": "2022-02-18T07:52:11.547211Z"
    }
   },
   "outputs": [
    {
     "data": {
      "text/plain": [
       "['2020-01-01', '60070008', '27', '25']"
      ]
     },
     "execution_count": 42,
     "metadata": {},
     "output_type": "execute_result"
    }
   ],
   "source": [
    "airquality.first()"
   ]
  },
  {
   "cell_type": "markdown",
   "id": "c18dfc05",
   "metadata": {},
   "source": [
    "**Defining the schema**"
   ]
  },
  {
   "cell_type": "code",
   "execution_count": 43,
   "id": "3ebfe45d",
   "metadata": {
    "ExecuteTime": {
     "end_time": "2022-02-18T07:52:12.011647Z",
     "start_time": "2022-02-18T07:52:12.006373Z"
    }
   },
   "outputs": [],
   "source": [
    "schema = StructType([\n",
    "            StructField(\"date\", DateType(), False),\n",
    "            StructField(\"site_id\", IntegerType(), False),\n",
    "            StructField(\"daily_mean_pm10_concentration\", FloatType(), False),\n",
    "            StructField(\"daily_aqi_value\", FloatType(),False)\n",
    "        \n",
    "])"
   ]
  },
  {
   "cell_type": "markdown",
   "id": "be4bb1ee",
   "metadata": {},
   "source": [
    "**Converting the rdd object to DataFrame**"
   ]
  },
  {
   "cell_type": "code",
   "execution_count": 44,
   "id": "36055402",
   "metadata": {
    "ExecuteTime": {
     "end_time": "2022-02-18T07:52:12.725067Z",
     "start_time": "2022-02-18T07:52:12.645011Z"
    }
   },
   "outputs": [],
   "source": [
    "df_airquality = ss.createDataFrame(airquality_, schema)"
   ]
  },
  {
   "cell_type": "code",
   "execution_count": 45,
   "id": "cf5a0719",
   "metadata": {
    "ExecuteTime": {
     "end_time": "2022-02-18T07:52:13.567409Z",
     "start_time": "2022-02-18T07:52:13.323672Z"
    }
   },
   "outputs": [
    {
     "name": "stdout",
     "output_type": "stream",
     "text": [
      "+----------+--------+-----------------------------+---------------+\n",
      "|      date| site_id|daily_mean_pm10_concentration|daily_aqi_value|\n",
      "+----------+--------+-----------------------------+---------------+\n",
      "|2020-01-01|60070008|                         27.0|           25.0|\n",
      "|2020-01-02|60070008|                         22.0|           20.0|\n",
      "|2020-01-03|60070008|                         30.0|           28.0|\n",
      "|2020-01-04|60070008|                         17.0|           16.0|\n",
      "|2020-01-05|60070008|                         18.0|           17.0|\n",
      "+----------+--------+-----------------------------+---------------+\n",
      "only showing top 5 rows\n",
      "\n"
     ]
    }
   ],
   "source": [
    "df_airquality.show(5)"
   ]
  },
  {
   "cell_type": "code",
   "execution_count": 46,
   "id": "5ddfe067",
   "metadata": {
    "ExecuteTime": {
     "end_time": "2022-02-18T07:52:43.181786Z",
     "start_time": "2022-02-18T07:52:43.107577Z"
    }
   },
   "outputs": [
    {
     "name": "stdout",
     "output_type": "stream",
     "text": [
      "root\n",
      " |-- date: date (nullable = false)\n",
      " |-- site_id: integer (nullable = false)\n",
      " |-- daily_mean_pm10_concentration: float (nullable = false)\n",
      " |-- daily_aqi_value: float (nullable = false)\n",
      "\n"
     ]
    }
   ],
   "source": [
    "df_airquality.printSchema()"
   ]
  },
  {
   "cell_type": "markdown",
   "id": "7b09017e",
   "metadata": {},
   "source": [
    "# Q2"
   ]
  },
  {
   "cell_type": "code",
   "execution_count": 49,
   "id": "8047fe77",
   "metadata": {
    "ExecuteTime": {
     "end_time": "2022-02-18T07:55:27.824552Z",
     "start_time": "2022-02-18T07:55:27.656873Z"
    }
   },
   "outputs": [
    {
     "data": {
      "text/plain": [
       "[60090001,\n",
       " 'San Andreas-Gold Strike Road',\n",
       " 38.20185,\n",
       " -120.680275,\n",
       " 'Calaveras',\n",
       " 'California']"
      ]
     },
     "execution_count": 49,
     "metadata": {},
     "output_type": "execute_result"
    }
   ],
   "source": [
    "location = sc.textFile(location_file).map(lambda x : x.split(','))\n",
    "location_ = location.map(lambda x: [int(x[0]), x[1],float(x[2]),float(x[3]), x[4],x[5] ])\n",
    "location_.first()"
   ]
  },
  {
   "cell_type": "code",
   "execution_count": 50,
   "id": "d819b769",
   "metadata": {
    "ExecuteTime": {
     "end_time": "2022-02-18T07:57:09.552742Z",
     "start_time": "2022-02-18T07:57:09.544555Z"
    }
   },
   "outputs": [],
   "source": [
    "schema_loc = StructType([\n",
    "            StructField(\"site_id\", IntegerType(), False),\n",
    "            StructField(\"site_name\", StringType(), False),\n",
    "            StructField(\"site_latitude\", FloatType(), False),\n",
    "            StructField(\"site_longitude\", FloatType(),False),\n",
    "            StructField(\"county\", StringType(),False),\n",
    "            StructField(\"state\", StringType(),False)\n",
    "        \n",
    "])\n"
   ]
  },
  {
   "cell_type": "code",
   "execution_count": 53,
   "id": "50570fe3",
   "metadata": {
    "ExecuteTime": {
     "end_time": "2022-02-18T07:59:07.701384Z",
     "start_time": "2022-02-18T07:59:07.582621Z"
    }
   },
   "outputs": [],
   "source": [
    "df_location = ss.createDataFrame(location_, schema_loc)"
   ]
  },
  {
   "cell_type": "code",
   "execution_count": 54,
   "id": "f60cdf2d",
   "metadata": {
    "ExecuteTime": {
     "end_time": "2022-02-18T07:59:08.486252Z",
     "start_time": "2022-02-18T07:59:08.107791Z"
    }
   },
   "outputs": [
    {
     "name": "stdout",
     "output_type": "stream",
     "text": [
      "+--------+--------------------+-------------+--------------+---------+----------+\n",
      "| site_id|           site_name|site_latitude|site_longitude|   county|     state|\n",
      "+--------+--------------------+-------------+--------------+---------+----------+\n",
      "|60090001|San Andreas-Gold ...|     38.20185|   -120.680275|Calaveras|California|\n",
      "|60111002| Colusa-Sunrise Blvd|     39.18919|    -121.99887|   Colusa|California|\n",
      "|60170011|South Lake Tahoe-...|     38.94498|    -119.97061|El Dorado|California|\n",
      "|60190007|     Fresno-Drummond|    36.705475|    -119.74133|   Fresno|California|\n",
      "|60190011|    Fresno - Garland|     36.78538|    -119.77321|   Fresno|California|\n",
      "|60190500|Table Mountain Ai...|     36.98512|    -119.65834|   Fresno|California|\n",
      "|60195001|        Clovis-Villa|     36.81945|    -119.71643|   Fresno|California|\n",
      "|60210003|Willows-Colusa St...|     39.53387|   -122.190834|    Glenn|California|\n",
      "|60231004|              Jacobs|     40.77678|    -124.17949| Humboldt|California|\n",
      "|60250005|Calexico-Ethel St...|     32.67618|    -115.48307| Imperial|California|\n",
      "|60250007|Brawley-220 Main ...|     32.97833|    -115.53917| Imperial|California|\n",
      "|60251003|El Centro-9th Street|     32.79222|    -115.56306| Imperial|California|\n",
      "|60254003|         Westmorland|      33.0325|    -115.62361| Imperial|California|\n",
      "|60254004| Niland-English Road|     33.21361|    -115.54528| Imperial|California|\n",
      "|60270002|White Mountain Re...|    37.360683|    -118.33078|     Inyo|California|\n",
      "|60270004|        Lone Pine PM|       36.609|    -118.05781|     Inyo|California|\n",
      "|60270022|         Dirty Socks|     36.32617|    -117.95512|     Inyo|California|\n",
      "|60270023|    Olancha-Well 404|    36.280598|    -118.01166|     Inyo|California|\n",
      "|60270025|           Shell Cut|    36.366318|   -117.897606|     Inyo|California|\n",
      "|60270026|        Bill Stanley|     36.36193|    -118.01068|     Inyo|California|\n",
      "+--------+--------------------+-------------+--------------+---------+----------+\n",
      "only showing top 20 rows\n",
      "\n"
     ]
    }
   ],
   "source": [
    "df_location.show()"
   ]
  },
  {
   "cell_type": "code",
   "execution_count": 55,
   "id": "e80e95cf",
   "metadata": {
    "ExecuteTime": {
     "end_time": "2022-02-18T07:59:16.725692Z",
     "start_time": "2022-02-18T07:59:16.703400Z"
    }
   },
   "outputs": [
    {
     "name": "stdout",
     "output_type": "stream",
     "text": [
      "root\n",
      " |-- site_id: integer (nullable = false)\n",
      " |-- site_name: string (nullable = false)\n",
      " |-- site_latitude: float (nullable = false)\n",
      " |-- site_longitude: float (nullable = false)\n",
      " |-- county: string (nullable = false)\n",
      " |-- state: string (nullable = false)\n",
      "\n"
     ]
    }
   ],
   "source": [
    "df_location.printSchema()"
   ]
  },
  {
   "cell_type": "markdown",
   "id": "261d8c12",
   "metadata": {},
   "source": [
    "# Q3"
   ]
  },
  {
   "cell_type": "code",
   "execution_count": 57,
   "id": "59a44ecf",
   "metadata": {
    "ExecuteTime": {
     "end_time": "2022-02-18T08:03:36.611075Z",
     "start_time": "2022-02-18T08:03:36.209242Z"
    }
   },
   "outputs": [
    {
     "name": "stdout",
     "output_type": "stream",
     "text": [
      "+----------+--------+-----------------------------+---------------+\n",
      "|      date| site_id|daily_mean_pm10_concentration|daily_aqi_value|\n",
      "+----------+--------+-----------------------------+---------------+\n",
      "|2020-02-02|60270022|                        562.0|          458.0|\n",
      "|2020-02-02|60270025|                        537.0|          433.0|\n",
      "|2020-02-02|60270030|                        361.0|          210.0|\n",
      "|2020-02-02|60271003|                        253.0|          150.0|\n",
      "|2020-02-02|60270028|                        212.0|          129.0|\n",
      "+----------+--------+-----------------------------+---------------+\n",
      "only showing top 5 rows\n",
      "\n"
     ]
    }
   ],
   "source": [
    "df_airquality.sort(['daily_aqi_value', 'date'], ascending = [False, True]).show(n)"
   ]
  },
  {
   "cell_type": "markdown",
   "id": "9b24916b",
   "metadata": {},
   "source": [
    "# Q4 "
   ]
  },
  {
   "cell_type": "code",
   "execution_count": 67,
   "id": "2df79523",
   "metadata": {
    "ExecuteTime": {
     "end_time": "2022-02-18T08:11:27.181350Z",
     "start_time": "2022-02-18T08:11:26.575656Z"
    }
   },
   "outputs": [
    {
     "name": "stdout",
     "output_type": "stream",
     "text": [
      "+---------------+-----+\n",
      "|         county|count|\n",
      "+---------------+-----+\n",
      "| San Bernardino|    9|\n",
      "|San Luis Obispo|    7|\n",
      "|  Santa Barbara|    5|\n",
      "|     Sacramento|    4|\n",
      "|      San Diego|    3|\n",
      "|    San Joaquin|    3|\n",
      "|         Shasta|    3|\n",
      "|         Sonoma|    3|\n",
      "|     Stanislaus|    2|\n",
      "|     San Benito|    1|\n",
      "+---------------+-----+\n",
      "only showing top 10 rows\n",
      "\n"
     ]
    }
   ],
   "source": [
    "df_location.filter(df_location['county'].startswith(start_string)).\\\n",
    "        groupBy('county').count().sort(['count', 'county'], ascending=[False, True] ).show(n)"
   ]
  },
  {
   "cell_type": "markdown",
   "id": "a7ba6f51",
   "metadata": {},
   "source": [
    "# Q5"
   ]
  },
  {
   "cell_type": "code",
   "execution_count": 75,
   "id": "d7ef4467",
   "metadata": {
    "ExecuteTime": {
     "end_time": "2022-02-18T08:26:37.544301Z",
     "start_time": "2022-02-18T08:26:36.741036Z"
    }
   },
   "outputs": [
    {
     "name": "stdout",
     "output_type": "stream",
     "text": [
      "+--------+----------+---------------+------------------+\n",
      "| site_id|      date|daily_aqi_value|     avg_daily_aqi|\n",
      "+--------+----------+---------------+------------------+\n",
      "|60070008|2020-01-01|           25.0|              25.0|\n",
      "|60070008|2020-01-02|           20.0|              22.5|\n",
      "|60070008|2020-01-03|           28.0|24.333333333333332|\n",
      "|60070008|2020-01-04|           16.0|             22.25|\n",
      "|60070008|2020-01-05|           17.0|              21.2|\n",
      "|60070008|2020-01-06|           12.0|19.666666666666668|\n",
      "|60070008|2020-01-07|           24.0|20.285714285714285|\n",
      "|60090001|2020-01-01|           18.0|              18.0|\n",
      "|60090001|2020-01-02|           13.0|              15.5|\n",
      "|60090001|2020-01-03|           13.0|14.666666666666666|\n",
      "+--------+----------+---------------+------------------+\n",
      "only showing top 10 rows\n",
      "\n"
     ]
    }
   ],
   "source": [
    "df_airquality.filter( (df_airquality['date'] >= start_date) & (df_airquality['date'] <= end_date) ).\\\n",
    "        select('site_id', 'date', 'daily_aqi_value', \\\n",
    "              avg('daily_aqi_value').over(Window.partitionBy('site_id').orderBy('date') ).alias(\"avg_daily_aqi\")  \n",
    "              ).show(n)"
   ]
  },
  {
   "cell_type": "markdown",
   "id": "83e42372",
   "metadata": {},
   "source": [
    "# Q6"
   ]
  },
  {
   "cell_type": "code",
   "execution_count": 85,
   "id": "7ffc4dca",
   "metadata": {
    "ExecuteTime": {
     "end_time": "2022-02-18T08:41:52.454427Z",
     "start_time": "2022-02-18T08:41:52.321689Z"
    }
   },
   "outputs": [
    {
     "name": "stdout",
     "output_type": "stream",
     "text": [
      "root\n",
      " |-- site_id: integer (nullable = false)\n",
      " |-- site_name: string (nullable = false)\n",
      " |-- site_latitude: float (nullable = false)\n",
      " |-- site_longitude: float (nullable = false)\n",
      " |-- county: string (nullable = false)\n",
      " |-- state: string (nullable = false)\n",
      " |-- date: date (nullable = true)\n",
      " |-- daily_mean_pm10_concentration: float (nullable = true)\n",
      " |-- daily_aqi_value: float (nullable = true)\n",
      "\n"
     ]
    }
   ],
   "source": [
    "df_location.filter(f\"site_id=={site_id_val}\").join(df_airquality, 'site_id', 'left_outer').sort('date').printSchema()"
   ]
  },
  {
   "cell_type": "code",
   "execution_count": 87,
   "id": "d18fa45e",
   "metadata": {
    "ExecuteTime": {
     "end_time": "2022-02-18T08:42:30.426024Z",
     "start_time": "2022-02-18T08:42:29.691029Z"
    }
   },
   "outputs": [
    {
     "name": "stdout",
     "output_type": "stream",
     "text": [
      "+----------+-----------+-------------+--------------+------+----------+-----------------------------+---------------+\n",
      "|      date|  site_name|site_latitude|site_longitude|county|     state|daily_mean_pm10_concentration|daily_aqi_value|\n",
      "+----------+-----------+-------------+--------------+------+----------+-----------------------------+---------------+\n",
      "|2020-01-01|Dirty Socks|     36.32617|    -117.95512|  Inyo|California|                          3.0|            3.0|\n",
      "|2020-01-02|Dirty Socks|     36.32617|    -117.95512|  Inyo|California|                          5.0|            5.0|\n",
      "|2020-01-03|Dirty Socks|     36.32617|    -117.95512|  Inyo|California|                          4.0|            4.0|\n",
      "|2020-01-04|Dirty Socks|     36.32617|    -117.95512|  Inyo|California|                          4.0|            4.0|\n",
      "|2020-01-05|Dirty Socks|     36.32617|    -117.95512|  Inyo|California|                          6.0|            6.0|\n",
      "|2020-01-06|Dirty Socks|     36.32617|    -117.95512|  Inyo|California|                          5.0|            5.0|\n",
      "|2020-01-07|Dirty Socks|     36.32617|    -117.95512|  Inyo|California|                          3.0|            3.0|\n",
      "|2020-01-08|Dirty Socks|     36.32617|    -117.95512|  Inyo|California|                         10.0|            9.0|\n",
      "|2020-01-09|Dirty Socks|     36.32617|    -117.95512|  Inyo|California|                          5.0|            5.0|\n",
      "|2020-01-10|Dirty Socks|     36.32617|    -117.95512|  Inyo|California|                          3.0|            3.0|\n",
      "+----------+-----------+-------------+--------------+------+----------+-----------------------------+---------------+\n",
      "only showing top 10 rows\n",
      "\n"
     ]
    }
   ],
   "source": [
    "df_location.filter(f\"site_id=={site_id_val}\").join(df_airquality, 'site_id', 'left_outer').sort('date').\\\n",
    "            select('date','site_name', 'site_latitude', 'site_longitude',\n",
    "                    'county', 'state', 'daily_mean_pm10_concentration', 'daily_aqi_value').show(n)"
   ]
  },
  {
   "cell_type": "code",
   "execution_count": 88,
   "id": "3e44a272",
   "metadata": {
    "ExecuteTime": {
     "end_time": "2022-02-18T08:55:42.105153Z",
     "start_time": "2022-02-18T08:55:41.459964Z"
    }
   },
   "outputs": [],
   "source": [
    "sc.stop()\n",
    "ss.stop()"
   ]
  },
  {
   "cell_type": "code",
   "execution_count": null,
   "id": "5bada748",
   "metadata": {},
   "outputs": [],
   "source": []
  }
 ],
 "metadata": {
  "kernelspec": {
   "display_name": "Python 3 (ipykernel)",
   "language": "python",
   "name": "python3"
  },
  "language_info": {
   "codemirror_mode": {
    "name": "ipython",
    "version": 3
   },
   "file_extension": ".py",
   "mimetype": "text/x-python",
   "name": "python",
   "nbconvert_exporter": "python",
   "pygments_lexer": "ipython3",
   "version": "3.8.2"
  }
 },
 "nbformat": 4,
 "nbformat_minor": 5
}
